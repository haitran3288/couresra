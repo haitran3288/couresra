{
  "metadata": {
    "language_info": {
      "codemirror_mode": {
        "name": "python",
        "version": 3
      },
      "file_extension": ".py",
      "mimetype": "text/x-python",
      "name": "python",
      "nbconvert_exporter": "python",
      "pygments_lexer": "ipython3",
      "version": "3.8"
    },
    "kernelspec": {
      "name": "python",
      "display_name": "Python (Pyodide)",
      "language": "python"
    }
  },
  "nbformat_minor": 4,
  "nbformat": 4,
  "cells": [
    {
      "cell_type": "markdown",
      "source": "Exercise 2: Create markdown cell with title of the notebook\n\n# Data Science Tools and Ecosystem",
      "metadata": {}
    },
    {
      "cell_type": "markdown",
      "source": "# Data Science Tools and Ecosystem",
      "metadata": {}
    },
    {
      "cell_type": "markdown",
      "source": "Exercise 3 - Create a markdown cell for an introduction\n\nIn this notebook, Data Science Tools and Ecosystem are summarized.",
      "metadata": {}
    },
    {
      "cell_type": "code",
      "source": "Exercise 4 - Create a markdown cell to list data science languages\n\nSome of the popular languages that Data Scientists use are:\n\n1. Python\n2. R\n3. SQL",
      "metadata": {},
      "execution_count": null,
      "outputs": []
    },
    {
      "cell_type": "markdown",
      "source": "Some of the popular languages that Data Scientists use are:\n\n1. Python\n2. R\n3. SQL",
      "metadata": {}
    },
    {
      "cell_type": "code",
      "source": "Exercise 5 - Create a markdown cell to list data science libraries\n\nSome of the commonly used libraries used by Data Scientists include:\n1. NumPy\n2. SciPy\n3. Sci-Kit Learn",
      "metadata": {},
      "execution_count": null,
      "outputs": []
    },
    {
      "cell_type": "markdown",
      "source": "Some of the commonly used libraries used by Data Scientists include:\n1. NumPy\n2. SciPy\n3. Sci-Kit Learn",
      "metadata": {}
    },
    {
      "cell_type": "code",
      "source": "Exercise 6 - Create a markdown cell with a table of Data Science tools\n|Data Science Tools|\n|------------------|\n|Apache Spark|\n|IBM SPSS|\n|Jupyter Notebook|",
      "metadata": {},
      "execution_count": null,
      "outputs": []
    },
    {
      "cell_type": "markdown",
      "source": "|Data Science Tools|\n|------------------|\n|Apache Spark|\n|IBM SPSS|\n|Jupyter Notebook|",
      "metadata": {}
    },
    {
      "cell_type": "code",
      "source": "Exercise 7 - Create a markdown cell introducing arithmetic expression examples\n\n### Below are a few examples of evaluating arithmetic expressions in Python",
      "metadata": {},
      "execution_count": null,
      "outputs": []
    },
    {
      "cell_type": "markdown",
      "source": "### Below are a few examples of evaluating arithmetic expressions in Python",
      "metadata": {}
    },
    {
      "cell_type": "code",
      "source": "Exercise 8 - Create a code cell to multiply and add numbers\n\n#  This a simple arithmetic expression to mutiply then add integers\n(3*4)+5",
      "metadata": {},
      "execution_count": null,
      "outputs": []
    },
    {
      "cell_type": "code",
      "source": "#  This a simple arithmetic expression to mutiply then add integers\n(3*4)+5",
      "metadata": {
        "trusted": true
      },
      "execution_count": 3,
      "outputs": [
        {
          "execution_count": 3,
          "output_type": "execute_result",
          "data": {
            "text/plain": "17"
          },
          "metadata": {}
        }
      ]
    },
    {
      "cell_type": "code",
      "source": "Exercise 9 - Create a code cell to convert minutes to hours\n\n#This will convert 200 minutes to hours by diving by 60\n200/60",
      "metadata": {},
      "execution_count": null,
      "outputs": []
    },
    {
      "cell_type": "code",
      "source": "#This will convert 200 minutes to hours by diving by 60\n200/60",
      "metadata": {
        "trusted": true
      },
      "execution_count": 4,
      "outputs": [
        {
          "execution_count": 4,
          "output_type": "execute_result",
          "data": {
            "text/plain": "3.3333333333333335"
          },
          "metadata": {}
        }
      ]
    },
    {
      "cell_type": "code",
      "source": "Exercise 10 - Insert a markdown cell to list Objectives\n\n**Objectives**\n- explore, sort and analyze megadata from various sources\n- take advantage of them\n- reach conclusions to optimize business processes or for decision support",
      "metadata": {},
      "execution_count": null,
      "outputs": []
    },
    {
      "cell_type": "markdown",
      "source": "**Objectives**\n- explore, sort and analyze megadata from various sources\n- take advantage of them\n- reach conclusions to optimize business processes or for decision support",
      "metadata": {}
    },
    {
      "cell_type": "code",
      "source": "Exercise 11 - Create a markdown cell to indicate the Author's name\n\n## Author\nHai Tran",
      "metadata": {},
      "execution_count": null,
      "outputs": []
    }
  ]
}
